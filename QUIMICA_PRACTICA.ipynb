{
  "nbformat": 4,
  "nbformat_minor": 0,
  "metadata": {
    "colab": {
      "provenance": []
    },
    "kernelspec": {
      "name": "python3",
      "display_name": "Python 3"
    },
    "language_info": {
      "name": "python"
    }
  },
  "cells": [
    {
      "cell_type": "code",
      "source": [
        "class BateriaCeldaSeca:\n",
        "    def __init__(self, voltaje_nominal, capacidad, eficiencia=1.0):\n",
        "        self.voltaje_nominal = voltaje_nominal  # en voltios\n",
        "        self.capacidad = capacidad  # en amperios-hora\n",
        "        self.eficiencia = eficiencia  # eficiencia de la celda seca\n",
        "\n",
        "        # Inicializar la carga total en la batería\n",
        "        self.carga_total = self.capacidad\n",
        "\n",
        "    def descargar(self, consumo):\n",
        "        # Descargar la batería\n",
        "        consumo_efectivo = consumo * self.eficiencia\n",
        "        self.carga_total -= consumo_efectivo\n",
        "\n",
        "    def obtener_energia_producida(self):\n",
        "        # Calcular la energía producida durante la descarga\n",
        "        energia_producida = self.voltaje_nominal * self.capacidad  # en vatios-hora\n",
        "        return energia_producida\n",
        "\n",
        "def main():\n",
        "    # Crear una batería de celda seca con voltaje nominal de 1.5V, capacidad de 2Ah y eficiencia del 90%\n",
        "    bateria = BateriaCeldaSeca(voltaje_nominal=1.5, capacidad=2, eficiencia=0.9)\n",
        "\n",
        "    # Simular la descarga de la batería\n",
        "    consumo = float(input(\"Ingrese el consumo de energía durante la descarga (en amperios): \"))\n",
        "    bateria.descargar(consumo)\n",
        "\n",
        "    # Obtener la energía producida\n",
        "    energia_producida = bateria.obtener_energia_producida()\n",
        "\n",
        "    # Mostrar resultados\n",
        "    print(\"\\nResumen de la descarga:\")\n",
        "    print(f\"Carga total restante en la batería: {bateria.carga_total} Ah\")\n",
        "    print(f\"Energía producida durante la descarga: {energia_producida} Wh\")\n",
        "\n",
        "if __name__ == \"__main__\":\n",
        "    main()"
      ],
      "metadata": {
        "colab": {
          "base_uri": "https://localhost:8080/"
        },
        "id": "9qSXZ-LSYos_",
        "outputId": "b7ffe862-4d2e-48b0-f077-13f2ac554710"
      },
      "execution_count": 1,
      "outputs": [
        {
          "output_type": "stream",
          "name": "stdout",
          "text": [
            "Ingrese el consumo de energía durante la descarga (en amperios): 1\n",
            "\n",
            "Resumen de la descarga:\n",
            "Carga total restante en la batería: 1.1 Ah\n",
            "Energía producida durante la descarga: 3.0 Wh\n"
          ]
        }
      ]
    }
  ]
}